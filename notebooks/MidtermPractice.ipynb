{
 "cells": [
  {
   "cell_type": "code",
   "execution_count": null,
   "id": "1003a8d0-1c44-425d-bd01-456f63b0588d",
   "metadata": {},
   "outputs": [],
   "source": [
    "# Write your name here"
   ]
  },
  {
   "cell_type": "code",
   "execution_count": null,
   "id": "f12835eb-1737-4294-9378-8768aab93fcf",
   "metadata": {},
   "outputs": [],
   "source": [
    "# sum the integers 160 and 260 and print the result"
   ]
  },
  {
   "cell_type": "code",
   "execution_count": null,
   "id": "aaacaae9-1464-4e67-86d5-803e7f8239e3",
   "metadata": {},
   "outputs": [],
   "source": [
    "# ask the user for their first name\n",
    "# and print \"Hello, name!\""
   ]
  },
  {
   "cell_type": "code",
   "execution_count": null,
   "id": "a5719af5-a73f-4840-96a3-fa20f53cb0fe",
   "metadata": {},
   "outputs": [],
   "source": [
    "# save this work to GitHub"
   ]
  },
  {
   "cell_type": "code",
   "execution_count": null,
   "id": "de8a27c8-9f95-4a5c-afcf-3e04761d3ca8",
   "metadata": {},
   "outputs": [],
   "source": [
    "# ask the user for two integers, x and y\n",
    "# print the value x divided by y\n",
    "# if y is zero, print an error message: DIVIDE BY ZERO"
   ]
  },
  {
   "cell_type": "code",
   "execution_count": null,
   "id": "d29582c3-8042-4d34-83ac-f3972085f229",
   "metadata": {},
   "outputs": [],
   "source": [
    "# save this work to GitHub"
   ]
  },
  {
   "cell_type": "code",
   "execution_count": null,
   "id": "549e7e56-d025-4977-9acd-1576efe80c18",
   "metadata": {},
   "outputs": [],
   "source": [
    "# tag this commit in git with the tag: DONE"
   ]
  },
  {
   "cell_type": "code",
   "execution_count": null,
   "id": "7f29ef31-cea7-4f83-abc3-5cef71efa86c",
   "metadata": {},
   "outputs": [],
   "source": [
    "# push your tag to GitHub"
   ]
  },
  {
   "cell_type": "code",
   "execution_count": null,
   "id": "0ed54d17-0ce5-4756-967c-58e5eea6f576",
   "metadata": {},
   "outputs": [],
   "source": [
    "# Print this notebook to a PDF and submit to Moodle"
   ]
  }
 ],
 "metadata": {
  "kernelspec": {
   "display_name": "Python 3 (ipykernel)",
   "language": "python",
   "name": "python3"
  },
  "language_info": {
   "codemirror_mode": {
    "name": "ipython",
    "version": 3
   },
   "file_extension": ".py",
   "mimetype": "text/x-python",
   "name": "python",
   "nbconvert_exporter": "python",
   "pygments_lexer": "ipython3",
   "version": "3.9.5"
  }
 },
 "nbformat": 4,
 "nbformat_minor": 5
}
